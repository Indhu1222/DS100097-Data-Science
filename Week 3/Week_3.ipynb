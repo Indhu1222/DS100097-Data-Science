{
  "nbformat": 4,
  "nbformat_minor": 0,
  "metadata": {
    "colab": {
      "provenance": []
    },
    "kernelspec": {
      "name": "python3",
      "display_name": "Python 3"
    },
    "language_info": {
      "name": "python"
    }
  },
  "cells": [
    {
      "cell_type": "code",
      "execution_count": 1,
      "metadata": {
        "id": "MUKPoEEepWKC"
      },
      "outputs": [],
      "source": [
        "import pandas as pd\n",
        "import numpy as np\n",
        "from sklearn.model_selection import train_test_split\n",
        "from sklearn.linear_model import LinearRegression\n",
        "from sklearn.metrics import mean_absolute_error, r2_score\n",
        "from sklearn.preprocessing import LabelEncoder"
      ]
    },
    {
      "cell_type": "code",
      "source": [
        "# Step 1: Load the dataset from a file\n",
        "file_path = \"/content/Housing.csv\"  # Replace with the actual file path\n",
        "df = pd.read_csv(file_path)"
      ],
      "metadata": {
        "id": "Yt8gjx-DqHh0"
      },
      "execution_count": 2,
      "outputs": []
    },
    {
      "cell_type": "code",
      "source": [
        "# Step 2: Preprocessing\n",
        "categorical_columns = ['mainroad', 'guestroom', 'basement', 'hotwaterheating', 'airconditioning', 'prefarea', 'furnishingstatus']\n",
        "le = LabelEncoder()\n",
        "for column in categorical_columns:\n",
        "    if column in df.columns:\n",
        "        df[column] = le.fit_transform(df[column])"
      ],
      "metadata": {
        "id": "zBpyIUj8qNUf"
      },
      "execution_count": 3,
      "outputs": []
    },
    {
      "cell_type": "code",
      "source": [
        "# Step 3: Feature Selection\n",
        "X = df.drop(columns=[\"price\"])  # Replace \"price\" with the actual column name for the target variable if different\n",
        "y = df[\"price\"]\n",
        "\n"
      ],
      "metadata": {
        "id": "kvotkAujqR1C"
      },
      "execution_count": 4,
      "outputs": []
    },
    {
      "cell_type": "code",
      "source": [
        "# Step 4: Split the data\n",
        "X_train, X_test, y_train, y_test = train_test_split(X, y, test_size=0.2, random_state=42)\n",
        "\n",
        "# Step 5: Train the model\n",
        "model = LinearRegression()\n",
        "model.fit(X_train, y_train)\n",
        "\n",
        "# Step 6: Make predictions\n",
        "y_pred = model.predict(X_test)"
      ],
      "metadata": {
        "id": "iU9C4m9xqTqx"
      },
      "execution_count": 5,
      "outputs": []
    },
    {
      "cell_type": "code",
      "source": [
        "# Step 7: Evaluate the model\n",
        "mae = mean_absolute_error(y_test, y_pred)\n",
        "r2 = r2_score(y_test, y_pred)\n",
        "# Output Results\n",
        "print(\"Mean Absolute Error (MAE):\", mae)\n",
        "print(\"R-squared (R2 Score):\", r2)\n"
      ],
      "metadata": {
        "colab": {
          "base_uri": "https://localhost:8080/"
        },
        "id": "gnieloTqqUou",
        "outputId": "9002985c-5633-4b8f-c8f6-97c8871766cf"
      },
      "execution_count": 6,
      "outputs": [
        {
          "output_type": "stream",
          "name": "stdout",
          "text": [
            "Mean Absolute Error (MAE): 979679.6912959901\n",
            "R-squared (R2 Score): 0.6494754192267803\n"
          ]
        }
      ]
    },
    {
      "cell_type": "code",
      "source": [
        "\n",
        "# Optional: Display the coefficients\n",
        "print(\"Feature Coefficients:\")\n",
        "for feature, coef in zip(X.columns, model.coef_):\n",
        "    print(f\"{feature}: {coef}\")"
      ],
      "metadata": {
        "colab": {
          "base_uri": "https://localhost:8080/"
        },
        "id": "tH6F-wNjqYKt",
        "outputId": "fc34472e-f895-4d6e-f0bb-d7ae803dce91"
      },
      "execution_count": 7,
      "outputs": [
        {
          "output_type": "stream",
          "name": "stdout",
          "text": [
            "Feature Coefficients:\n",
            "area: 235.84877178813724\n",
            "bedrooms: 78574.49238760071\n",
            "bathrooms: 1097117.2661479574\n",
            "stories: 406223.16446288454\n",
            "mainroad: 366824.1923924831\n",
            "guestroom: 233146.76562655077\n",
            "basement: 393159.7787258404\n",
            "hotwaterheating: 687881.3109570158\n",
            "airconditioning: 785550.5792954286\n",
            "parking: 225756.5139762815\n",
            "prefarea: 629901.6608459124\n",
            "furnishingstatus: -210397.11827155566\n"
          ]
        }
      ]
    }
  ]
}